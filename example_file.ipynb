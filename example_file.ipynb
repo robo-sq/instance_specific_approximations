{
 "cells": [
  {
   "cell_type": "code",
   "execution_count": 1,
   "metadata": {},
   "outputs": [
    {
     "name": "stdout",
     "output_type": "stream",
     "text": [
      "Using Python-MIP package version 1.5.1\n"
     ]
    }
   ],
   "source": [
    "from data_helper import *\n",
    "from obj_helper import *\n",
    "from algo import *\n",
    "from approx import *\n",
    "import pickle"
   ]
  },
  {
   "cell_type": "markdown",
   "metadata": {},
   "source": [
    "### Large instance: Influence Maximization on Youtube"
   ]
  },
  {
   "cell_type": "code",
   "execution_count": 2,
   "metadata": {},
   "outputs": [
    {
     "name": "stdout",
     "output_type": "stream",
     "text": [
      "76\n",
      "132\n"
     ]
    }
   ],
   "source": [
    "### Example of influence maximization on Youtube data\n",
    "\n",
    "# params\n",
    "k = 10\n",
    "fname = 'youtube'\n",
    "\n",
    "# open weights and graph\n",
    "G = open_data(\"youtube_graph.p\")\n",
    "ground_set = set(range(len(G)))\n",
    "\n",
    "# get objective\n",
    "obj = get_obj('influence_maximization', G)\n",
    "\n",
    "# query objective\n",
    "print(obj([225]))\n",
    "print(obj([225, 428]))"
   ]
  },
  {
   "cell_type": "code",
   "execution_count": 3,
   "metadata": {},
   "outputs": [
    {
     "name": "stdout",
     "output_type": "stream",
     "text": [
      "Greedy\n",
      "[([], 0), ([225], 76), ([428], 132), ([134], 178), ([614], 216), ([45], 251), ([598], 283), ([554], 310), ([496], 334), ([986], 358), ([246], 377)] \n",
      "\n",
      "Local Search\n",
      "[([], 0), ([225], 76), ([225, 428], 132), ([225, 428, 134], 178), ([225, 428, 134, 614], 216), ([225, 428, 45, 614, 134], 251), ([225, 428, 554, 598, 614, 45], 284), ([225, 428, 134, 554, 598, 614, 45], 310), ([225, 428, 134, 554, 614, 45, 496, 598], 334), ([225, 428, 554, 614, 45, 496, 598, 986, 134], 358), ([225, 428, 554, 614, 45, 496, 598, 986, 134, 246], 377)] \n",
      "\n",
      "Random Greedy\n",
      "[([], 0), ([225], 76), ([225, 134], 122), ([225, 134, 428], 178), ([134, 614, 225, 554], 190), ([428, 134, 269, 45, 598], 202), ([598, 428, 134, 614, 45, 269], 239), ([225, 609, 45, 135, 614, 134, 554], 268), ([614, 609, 45, 428, 554, 201, 225, 598], 307), ([428, 17, 134, 269, 614, 45, 286, 554, 236], 287), ([17, 236, 293, 225, 134, 135, 986, 609, 496, 45], 291)] \n",
      "\n",
      "Lazier Greedy\n",
      "[([], 0), ([225], 76), ([225, 428], 132), ([225, 428, 134], 178), ([225, 428, 134, 614], 216), ([225, 428, 134, 614, 598], 248), ([225, 134, 614, 598, 428, 554], 275), ([225, 428, 134, 614, 598, 45, 554], 310), ([428, 554, 225, 598, 614, 45, 134, 986], 334), ([598, 614, 225, 554, 428, 986, 45, 134, 135], 350), ([428, 554, 225, 609, 614, 134, 45, 246, 598, 496], 369)] \n",
      "\n"
     ]
    }
   ],
   "source": [
    "### run submodular maximization algorithms\n",
    "# each function outputs the set chosen and the solution value for each k\n",
    "\n",
    "# run greedy\n",
    "res_gr = run_greedy(k, ground_set, obj, fname=fname, print_log=False)\n",
    "print('Greedy')\n",
    "print(res_gr, '\\n')\n",
    "\n",
    "# run local search\n",
    "res_ls = run_local_search(k, ground_set, obj, fname=fname, every_iter=1)\n",
    "print('Local Search')\n",
    "print(res_ls, '\\n')\n",
    "\n",
    "# run random greedy\n",
    "res_gr_random = run_random_greedy(k, ground_set, obj, fname=fname, every_iter=1)\n",
    "print('Random Greedy')\n",
    "print(res_gr_random, '\\n')\n",
    "\n",
    "# run lazier than lazy greedy\n",
    "res_gr_lazier = run_lazier_greedy(k, ground_set, obj, eps=0.01, fname=fname, every_iter=1)\n",
    "print('Lazier Greedy')\n",
    "print(res_gr_lazier, '\\n')"
   ]
  },
  {
   "cell_type": "code",
   "execution_count": 4,
   "metadata": {},
   "outputs": [
    {
     "name": "stdout",
     "output_type": "stream",
     "text": [
      "Method 1\n",
      "OPT upper bound:  [76, 132, 178, 222, 263, 300, 335, 366, 395, 423]\n",
      "Greedy approximation:  [1.0, 1.0, 1.0, 0.972972972972973, 0.9543726235741445, 0.9433333333333334, 0.9253731343283582, 0.912568306010929, 0.9063291139240506, 0.8912529550827423] \n",
      "\n",
      "Method 3\n",
      "OPT upper bound:  [76, 132, 178, 220, 260, 296, 328, 359, 388, 415]\n",
      "Greedy approximation:  [1.0, 1.0, 1.0, 0.9818181818181818, 0.9653846153846154, 0.956081081081081, 0.9451219512195121, 0.9303621169916435, 0.9226804123711341, 0.908433734939759] \n",
      "\n",
      "Dual\n",
      "OPT upper bound:  [76.0, 132.0, 178.0, 220.0, 260.0, 296.0, 328.0, 359.0, 388.0, 415.0]\n",
      "Greedy approximation:  [1.0, 1.0, 1.0, 0.9818181818181818, 0.9653846153846154, 0.956081081081081, 0.9451219512195121, 0.9303621169916435, 0.9226804123711341, 0.908433734939759] \n",
      "\n"
     ]
    }
   ],
   "source": [
    "### run methods proposed in paper\n",
    "\n",
    "# run method 1\n",
    "ub, approx = compute_method1(k, obj, ground_set, res_gr)\n",
    "print('Method 1')\n",
    "print('OPT upper bound: ', ub)\n",
    "print('Greedy approximation: ', approx, '\\n')\n",
    "\n",
    "# run method 3\n",
    "ub, approx = compute_method3(k, obj, ground_set, res_gr)\n",
    "print('Method 3')\n",
    "print('OPT upper bound: ', ub)\n",
    "print('Greedy approximation: ', approx, '\\n')\n",
    "\n",
    "# run dual\n",
    "# S_idx specifies the greedy solution sets to comprise mathcal S\n",
    "ub, approx = compute_dual(k, obj, ground_set, res_gr, S_idx=[0,1,2])\n",
    "print('Dual')\n",
    "print('OPT upper bound: ', ub)\n",
    "print('Greedy approximation: ', approx, '\\n')"
   ]
  },
  {
   "cell_type": "code",
   "execution_count": 5,
   "metadata": {},
   "outputs": [
    {
     "name": "stdout",
     "output_type": "stream",
     "text": [
      "Top-k\n",
      "OPT upper bound:  [76, 132, 178, 222, 264, 304, 340, 375, 407, 439]\n",
      "Greedy approximation:  [1.0, 1.0, 1.0, 0.972972972972973, 0.9507575757575758, 0.930921052631579, 0.9117647058823529, 0.8906666666666667, 0.8796068796068796, 0.8587699316628702] \n",
      "\n",
      "Marginal\n",
      "OPT upper bound:  [76.0, 152.0, 228.00000000000006, 300.0, 356.0, 406.00000000000006, 444.0000000000001, 482.0, 520.0, 548.0000000000002]\n",
      "Greedy approximation:  [1.0, 0.868421052631579, 0.7807017543859647, 0.72, 0.7050561797752809, 0.6970443349753693, 0.6981981981981981, 0.6929460580912863, 0.6884615384615385, 0.6879562043795617] \n",
      "\n",
      "Curvature Upper Bound\n",
      "[([1], 0.7298743214511119), ([1, 46], 0.6321205588285577), ([1, 46], 0.6321205588285577), ([1, 46], 0.6321205588285577), ([1, 46], 0.6321205588285577), ([1, 46], 0.6321205588285577), ([1, 46], 0.6321205588285577), ([1, 46], 0.6321205588285577), ([1, 46], 0.6321205588285577), ([1, 46], 0.6321205588285577)] \n",
      "\n",
      "IP\n",
      "[([], 0), ([225], 76), ([225, 428], 132), ([134, 225, 428], 178), ([134, 225, 428, 614], 216), ([45, 134, 225, 428, 614], 251), ([45, 225, 428, 554, 598, 614], 284), ([45, 134, 225, 428, 554, 598, 614], 310), ([45, 134, 225, 428, 496, 554, 598, 614], 334), ([45, 134, 225, 428, 496, 554, 598, 614, 986], 358), ([45, 134, 225, 246, 428, 496, 554, 598, 614, 986], 377)]\n"
     ]
    }
   ],
   "source": [
    "### run benchmarks\n",
    "# the following functions return the approximation to Greedy\n",
    "\n",
    "# run top-k and output OPT upper bound and approximation\n",
    "ub, approx = compute_topk(k, obj, ground_set, res_gr)\n",
    "print('Top-k')\n",
    "print('OPT upper bound: ', ub)\n",
    "print('Greedy approximation: ', approx, '\\n')\n",
    "\n",
    "# run marginal and output OPT upper bound and approximation\n",
    "# note that approximation improves when res_gr contains \n",
    "# the solutions for larger k\n",
    "ub, approx = compute_marginal(k, res_gr)\n",
    "print('Marginal')\n",
    "print('OPT upper bound: ', ub)\n",
    "print('Greedy approximation: ', approx, '\\n')\n",
    "\n",
    "# run curvature and output approximation\n",
    "res = compute_curvature_ub(k, ground_set, obj)\n",
    "print('Curvature Upper Bound')\n",
    "print(res, '\\n')\n",
    "\n",
    "# run integer program to compute OPT exactly and output the optimal set and value\n",
    "# the following can be slow\n",
    "res = run_opt_ip(k, G, np.ones(len(G)))\n",
    "print('IP')\n",
    "print(res)"
   ]
  },
  {
   "cell_type": "markdown",
   "metadata": {},
   "source": [
    "### Small instance: Facility Location on MovieLens"
   ]
  },
  {
   "cell_type": "code",
   "execution_count": 6,
   "metadata": {
    "collapsed": true,
    "scrolled": true
   },
   "outputs": [],
   "source": [
    "### Example of facility location on MovieLens data\n",
    "\n",
    "# params\n",
    "n = 10\n",
    "k = 5\n",
    "fname = 'movie'\n",
    "\n",
    "# open data files and sample\n",
    "movie = get_data('movie')\n",
    "data = sample_data(movie, n)\n",
    "ground_set = set(range(n))\n",
    "\n",
    "# get obj\n",
    "obj = get_obj('facility_location', data)"
   ]
  },
  {
   "cell_type": "code",
   "execution_count": 7,
   "metadata": {},
   "outputs": [
    {
     "name": "stdout",
     "output_type": "stream",
     "text": [
      "Greedy\n",
      "[([], 0), ([0], 1.6145065551793651), ([1], 1.6701525059655589), ([6], 1.6772114910918416), ([2], 1.6772114910918416), ([3], 1.6772114910918416)] \n",
      "\n",
      "OPT\n",
      "[([], 0), ([0], 1.6145065551793651), ([0, 1], 1.6701525059655589), ([0, 1, 6], 1.6772114910918416), ([0, 1, 2, 6], 1.6772114910918416), ([0, 1, 2, 3, 6], 1.6772114910918416)]\n"
     ]
    }
   ],
   "source": [
    "# run greedy\n",
    "res_gr = run_greedy(k, ground_set, obj, print_log=False)\n",
    "print('Greedy')\n",
    "print(res_gr, '\\n')\n",
    "\n",
    "# find optimal solution\n",
    "res_opt = compute_opt(k, obj, ground_set)\n",
    "print('OPT')\n",
    "print(res_opt)"
   ]
  },
  {
   "cell_type": "code",
   "execution_count": 8,
   "metadata": {},
   "outputs": [
    {
     "name": "stdout",
     "output_type": "stream",
     "text": [
      "Dual\n",
      "OPT upper bound:  [1.6145065551793651, 1.6772114910918416, 1.6772114910918416, 1.6772114910918416, 1.6772114910918416]\n",
      "Greedy approximation:  [1.0, 0.9957912373223203, 1.0, 1.0, 1.0]\n"
     ]
    }
   ],
   "source": [
    "### run dual\n",
    "\n",
    "# S_idx specifies the greedy solution sets to comprise mathcal S\n",
    "ub, approx = compute_dual(k, obj, ground_set, res_gr, S_idx=[0,1,2])\n",
    "print('Dual')\n",
    "print('OPT upper bound: ', ub)\n",
    "print('Greedy approximation: ', approx)"
   ]
  },
  {
   "cell_type": "code",
   "execution_count": 9,
   "metadata": {},
   "outputs": [
    {
     "name": "stdout",
     "output_type": "stream",
     "text": [
      "Marginal\n",
      "OPT upper bound:  [1.6145065551793651, 1.6772114910918416, 1.6772114910918416, 1.6772114910918414, 1.6772114910918416]\n",
      "Greedy approximation:  [1.0, 0.9957912373223203, 1.0, 1.0000000000000002, 1.0] \n",
      "\n",
      "Curvature\n",
      "[0.6321205588285577, 0.6321205588285577, 0.6321205588285577, 0.6321205588285577] \n",
      "\n",
      "Sharpness\n",
      "0.6954789761135712\n"
     ]
    }
   ],
   "source": [
    "### run benchmarks\n",
    "\n",
    "# run marginal and output OPT upper bound and approximation\n",
    "ub, approx = compute_marginal(k, res_gr)\n",
    "print('Marginal')\n",
    "print('OPT upper bound: ', ub)\n",
    "print('Greedy approximation: ', approx, '\\n')\n",
    "\n",
    "# run curvature (brute force) and output approximation\n",
    "res_curv = compute_curvature_brute_k(k, ground_set, obj)\n",
    "print('Curvature')\n",
    "print(res_curv, '\\n')\n",
    "\n",
    "# run sharpness output approximation for k = 5 only\n",
    "apx = compute_s_sharpness_dyn(k, res_opt[-1][0], res_opt[-1][1], ground_set, obj)\n",
    "print('Sharpness')\n",
    "print(apx)"
   ]
  },
  {
   "cell_type": "code",
   "execution_count": null,
   "metadata": {
    "collapsed": true
   },
   "outputs": [],
   "source": []
  }
 ],
 "metadata": {
  "kernelspec": {
   "display_name": "Python 3",
   "language": "python",
   "name": "python3"
  },
  "language_info": {
   "codemirror_mode": {
    "name": "ipython",
    "version": 3
   },
   "file_extension": ".py",
   "mimetype": "text/x-python",
   "name": "python",
   "nbconvert_exporter": "python",
   "pygments_lexer": "ipython3",
   "version": "3.6.1"
  }
 },
 "nbformat": 4,
 "nbformat_minor": 2
}
